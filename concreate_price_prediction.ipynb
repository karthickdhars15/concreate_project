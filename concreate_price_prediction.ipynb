{
 "cells": [
  {
   "cell_type": "code",
   "execution_count": 20,
   "id": "61023768",
   "metadata": {},
   "outputs": [],
   "source": [
    "import numpy as np\n",
    "import pandas as pd\n",
    "from sklearn.model_selection import train_test_split\n",
    "from sklearn.ensemble import RandomForestRegressor\n",
    "from sklearn.metrics import mean_squared_error\n",
    "import pickle"
   ]
  },
  {
   "cell_type": "code",
   "execution_count": 2,
   "id": "a6a4f337",
   "metadata": {},
   "outputs": [],
   "source": [
    "data=pd.read_csv(\"concrete_data.csv\")"
   ]
  },
  {
   "cell_type": "code",
   "execution_count": 3,
   "id": "008ec98c",
   "metadata": {},
   "outputs": [
    {
     "data": {
      "text/html": [
       "<div>\n",
       "<style scoped>\n",
       "    .dataframe tbody tr th:only-of-type {\n",
       "        vertical-align: middle;\n",
       "    }\n",
       "\n",
       "    .dataframe tbody tr th {\n",
       "        vertical-align: top;\n",
       "    }\n",
       "\n",
       "    .dataframe thead th {\n",
       "        text-align: right;\n",
       "    }\n",
       "</style>\n",
       "<table border=\"1\" class=\"dataframe\">\n",
       "  <thead>\n",
       "    <tr style=\"text-align: right;\">\n",
       "      <th></th>\n",
       "      <th>cement</th>\n",
       "      <th>blast_furnace_slag</th>\n",
       "      <th>fly_ash</th>\n",
       "      <th>water</th>\n",
       "      <th>superplasticizer</th>\n",
       "      <th>coarse_aggregate</th>\n",
       "      <th>fine_aggregate</th>\n",
       "      <th>age</th>\n",
       "      <th>Strength</th>\n",
       "    </tr>\n",
       "  </thead>\n",
       "  <tbody>\n",
       "    <tr>\n",
       "      <th>0</th>\n",
       "      <td>540.0</td>\n",
       "      <td>0.0</td>\n",
       "      <td>0.0</td>\n",
       "      <td>162.0</td>\n",
       "      <td>2.5</td>\n",
       "      <td>1040.0</td>\n",
       "      <td>676.0</td>\n",
       "      <td>28</td>\n",
       "      <td>79.99</td>\n",
       "    </tr>\n",
       "    <tr>\n",
       "      <th>1</th>\n",
       "      <td>540.0</td>\n",
       "      <td>0.0</td>\n",
       "      <td>0.0</td>\n",
       "      <td>162.0</td>\n",
       "      <td>2.5</td>\n",
       "      <td>1055.0</td>\n",
       "      <td>676.0</td>\n",
       "      <td>28</td>\n",
       "      <td>61.89</td>\n",
       "    </tr>\n",
       "    <tr>\n",
       "      <th>2</th>\n",
       "      <td>332.5</td>\n",
       "      <td>142.5</td>\n",
       "      <td>0.0</td>\n",
       "      <td>228.0</td>\n",
       "      <td>0.0</td>\n",
       "      <td>932.0</td>\n",
       "      <td>594.0</td>\n",
       "      <td>270</td>\n",
       "      <td>40.27</td>\n",
       "    </tr>\n",
       "    <tr>\n",
       "      <th>3</th>\n",
       "      <td>332.5</td>\n",
       "      <td>142.5</td>\n",
       "      <td>0.0</td>\n",
       "      <td>228.0</td>\n",
       "      <td>0.0</td>\n",
       "      <td>932.0</td>\n",
       "      <td>594.0</td>\n",
       "      <td>365</td>\n",
       "      <td>41.05</td>\n",
       "    </tr>\n",
       "    <tr>\n",
       "      <th>4</th>\n",
       "      <td>198.6</td>\n",
       "      <td>132.4</td>\n",
       "      <td>0.0</td>\n",
       "      <td>192.0</td>\n",
       "      <td>0.0</td>\n",
       "      <td>978.4</td>\n",
       "      <td>825.5</td>\n",
       "      <td>360</td>\n",
       "      <td>44.30</td>\n",
       "    </tr>\n",
       "  </tbody>\n",
       "</table>\n",
       "</div>"
      ],
      "text/plain": [
       "   cement  blast_furnace_slag  fly_ash  water  superplasticizer  \\\n",
       "0   540.0                 0.0      0.0  162.0               2.5   \n",
       "1   540.0                 0.0      0.0  162.0               2.5   \n",
       "2   332.5               142.5      0.0  228.0               0.0   \n",
       "3   332.5               142.5      0.0  228.0               0.0   \n",
       "4   198.6               132.4      0.0  192.0               0.0   \n",
       "\n",
       "   coarse_aggregate  fine_aggregate   age  Strength  \n",
       "0            1040.0            676.0   28     79.99  \n",
       "1            1055.0            676.0   28     61.89  \n",
       "2             932.0            594.0  270     40.27  \n",
       "3             932.0            594.0  365     41.05  \n",
       "4             978.4            825.5  360     44.30  "
      ]
     },
     "execution_count": 3,
     "metadata": {},
     "output_type": "execute_result"
    }
   ],
   "source": [
    "data.head()"
   ]
  },
  {
   "cell_type": "code",
   "execution_count": 4,
   "id": "c55f590e",
   "metadata": {},
   "outputs": [
    {
     "data": {
      "text/plain": [
       "(1030, 9)"
      ]
     },
     "execution_count": 4,
     "metadata": {},
     "output_type": "execute_result"
    }
   ],
   "source": [
    "data.shape"
   ]
  },
  {
   "cell_type": "code",
   "execution_count": 8,
   "id": "bd4b3020",
   "metadata": {},
   "outputs": [],
   "source": [
    "X=data.iloc[:,:8]"
   ]
  },
  {
   "cell_type": "code",
   "execution_count": 9,
   "id": "98cfdcde",
   "metadata": {},
   "outputs": [
    {
     "name": "stdout",
     "output_type": "stream",
     "text": [
      "      cement  blast_furnace_slag  fly_ash  water  superplasticizer  \\\n",
      "0      540.0                 0.0      0.0  162.0               2.5   \n",
      "1      540.0                 0.0      0.0  162.0               2.5   \n",
      "2      332.5               142.5      0.0  228.0               0.0   \n",
      "3      332.5               142.5      0.0  228.0               0.0   \n",
      "4      198.6               132.4      0.0  192.0               0.0   \n",
      "...      ...                 ...      ...    ...               ...   \n",
      "1025   276.4               116.0     90.3  179.6               8.9   \n",
      "1026   322.2                 0.0    115.6  196.0              10.4   \n",
      "1027   148.5               139.4    108.6  192.7               6.1   \n",
      "1028   159.1               186.7      0.0  175.6              11.3   \n",
      "1029   260.9               100.5     78.3  200.6               8.6   \n",
      "\n",
      "      coarse_aggregate  fine_aggregate   age  \n",
      "0               1040.0            676.0   28  \n",
      "1               1055.0            676.0   28  \n",
      "2                932.0            594.0  270  \n",
      "3                932.0            594.0  365  \n",
      "4                978.4            825.5  360  \n",
      "...                ...              ...  ...  \n",
      "1025             870.1            768.3   28  \n",
      "1026             817.9            813.4   28  \n",
      "1027             892.4            780.0   28  \n",
      "1028             989.6            788.9   28  \n",
      "1029             864.5            761.5   28  \n",
      "\n",
      "[1030 rows x 8 columns]\n"
     ]
    }
   ],
   "source": [
    "print(X)"
   ]
  },
  {
   "cell_type": "code",
   "execution_count": 10,
   "id": "7643a8ab",
   "metadata": {},
   "outputs": [
    {
     "name": "stdout",
     "output_type": "stream",
     "text": [
      "      Strength\n",
      "0        79.99\n",
      "1        61.89\n",
      "2        40.27\n",
      "3        41.05\n",
      "4        44.30\n",
      "...        ...\n",
      "1025     44.28\n",
      "1026     31.18\n",
      "1027     23.70\n",
      "1028     32.77\n",
      "1029     32.40\n",
      "\n",
      "[1030 rows x 1 columns]\n"
     ]
    }
   ],
   "source": [
    "y=data.iloc[:,-1:]\n",
    "\n",
    "print(y)"
   ]
  },
  {
   "cell_type": "code",
   "execution_count": 12,
   "id": "a6847824",
   "metadata": {},
   "outputs": [],
   "source": [
    "train_features, test_features, train_labels, test_labels = train_test_split(X, y, test_size = 0.25, random_state = 42)"
   ]
  },
  {
   "cell_type": "code",
   "execution_count": 14,
   "id": "d7646e49",
   "metadata": {},
   "outputs": [
    {
     "name": "stderr",
     "output_type": "stream",
     "text": [
      "C:\\Users\\Admin\\anaconda3\\Lib\\site-packages\\sklearn\\base.py:1151: DataConversionWarning: A column-vector y was passed when a 1d array was expected. Please change the shape of y to (n_samples,), for example using ravel().\n",
      "  return fit_method(estimator, *args, **kwargs)\n"
     ]
    },
    {
     "data": {
      "text/html": [
       "<style>#sk-container-id-1 {color: black;}#sk-container-id-1 pre{padding: 0;}#sk-container-id-1 div.sk-toggleable {background-color: white;}#sk-container-id-1 label.sk-toggleable__label {cursor: pointer;display: block;width: 100%;margin-bottom: 0;padding: 0.3em;box-sizing: border-box;text-align: center;}#sk-container-id-1 label.sk-toggleable__label-arrow:before {content: \"▸\";float: left;margin-right: 0.25em;color: #696969;}#sk-container-id-1 label.sk-toggleable__label-arrow:hover:before {color: black;}#sk-container-id-1 div.sk-estimator:hover label.sk-toggleable__label-arrow:before {color: black;}#sk-container-id-1 div.sk-toggleable__content {max-height: 0;max-width: 0;overflow: hidden;text-align: left;background-color: #f0f8ff;}#sk-container-id-1 div.sk-toggleable__content pre {margin: 0.2em;color: black;border-radius: 0.25em;background-color: #f0f8ff;}#sk-container-id-1 input.sk-toggleable__control:checked~div.sk-toggleable__content {max-height: 200px;max-width: 100%;overflow: auto;}#sk-container-id-1 input.sk-toggleable__control:checked~label.sk-toggleable__label-arrow:before {content: \"▾\";}#sk-container-id-1 div.sk-estimator input.sk-toggleable__control:checked~label.sk-toggleable__label {background-color: #d4ebff;}#sk-container-id-1 div.sk-label input.sk-toggleable__control:checked~label.sk-toggleable__label {background-color: #d4ebff;}#sk-container-id-1 input.sk-hidden--visually {border: 0;clip: rect(1px 1px 1px 1px);clip: rect(1px, 1px, 1px, 1px);height: 1px;margin: -1px;overflow: hidden;padding: 0;position: absolute;width: 1px;}#sk-container-id-1 div.sk-estimator {font-family: monospace;background-color: #f0f8ff;border: 1px dotted black;border-radius: 0.25em;box-sizing: border-box;margin-bottom: 0.5em;}#sk-container-id-1 div.sk-estimator:hover {background-color: #d4ebff;}#sk-container-id-1 div.sk-parallel-item::after {content: \"\";width: 100%;border-bottom: 1px solid gray;flex-grow: 1;}#sk-container-id-1 div.sk-label:hover label.sk-toggleable__label {background-color: #d4ebff;}#sk-container-id-1 div.sk-serial::before {content: \"\";position: absolute;border-left: 1px solid gray;box-sizing: border-box;top: 0;bottom: 0;left: 50%;z-index: 0;}#sk-container-id-1 div.sk-serial {display: flex;flex-direction: column;align-items: center;background-color: white;padding-right: 0.2em;padding-left: 0.2em;position: relative;}#sk-container-id-1 div.sk-item {position: relative;z-index: 1;}#sk-container-id-1 div.sk-parallel {display: flex;align-items: stretch;justify-content: center;background-color: white;position: relative;}#sk-container-id-1 div.sk-item::before, #sk-container-id-1 div.sk-parallel-item::before {content: \"\";position: absolute;border-left: 1px solid gray;box-sizing: border-box;top: 0;bottom: 0;left: 50%;z-index: -1;}#sk-container-id-1 div.sk-parallel-item {display: flex;flex-direction: column;z-index: 1;position: relative;background-color: white;}#sk-container-id-1 div.sk-parallel-item:first-child::after {align-self: flex-end;width: 50%;}#sk-container-id-1 div.sk-parallel-item:last-child::after {align-self: flex-start;width: 50%;}#sk-container-id-1 div.sk-parallel-item:only-child::after {width: 0;}#sk-container-id-1 div.sk-dashed-wrapped {border: 1px dashed gray;margin: 0 0.4em 0.5em 0.4em;box-sizing: border-box;padding-bottom: 0.4em;background-color: white;}#sk-container-id-1 div.sk-label label {font-family: monospace;font-weight: bold;display: inline-block;line-height: 1.2em;}#sk-container-id-1 div.sk-label-container {text-align: center;}#sk-container-id-1 div.sk-container {/* jupyter's `normalize.less` sets `[hidden] { display: none; }` but bootstrap.min.css set `[hidden] { display: none !important; }` so we also need the `!important` here to be able to override the default hidden behavior on the sphinx rendered scikit-learn.org. See: https://github.com/scikit-learn/scikit-learn/issues/21755 */display: inline-block !important;position: relative;}#sk-container-id-1 div.sk-text-repr-fallback {display: none;}</style><div id=\"sk-container-id-1\" class=\"sk-top-container\"><div class=\"sk-text-repr-fallback\"><pre>RandomForestRegressor()</pre><b>In a Jupyter environment, please rerun this cell to show the HTML representation or trust the notebook. <br />On GitHub, the HTML representation is unable to render, please try loading this page with nbviewer.org.</b></div><div class=\"sk-container\" hidden><div class=\"sk-item\"><div class=\"sk-estimator sk-toggleable\"><input class=\"sk-toggleable__control sk-hidden--visually\" id=\"sk-estimator-id-1\" type=\"checkbox\" checked><label for=\"sk-estimator-id-1\" class=\"sk-toggleable__label sk-toggleable__label-arrow\">RandomForestRegressor</label><div class=\"sk-toggleable__content\"><pre>RandomForestRegressor()</pre></div></div></div></div></div>"
      ],
      "text/plain": [
       "RandomForestRegressor()"
      ]
     },
     "execution_count": 14,
     "metadata": {},
     "output_type": "execute_result"
    }
   ],
   "source": [
    "reg =RandomForestRegressor()\n",
    "\n",
    "reg.fit(train_features, train_labels)"
   ]
  },
  {
   "cell_type": "code",
   "execution_count": 15,
   "id": "b46d5a23",
   "metadata": {},
   "outputs": [],
   "source": [
    "y_pred = reg.predict(train_features)"
   ]
  },
  {
   "cell_type": "code",
   "execution_count": 16,
   "id": "24f487d4",
   "metadata": {},
   "outputs": [
    {
     "data": {
      "text/plain": [
       "array([23.2859    , 21.9955    , 20.5119    , 55.0931    , 20.4204    ,\n",
       "       31.5876    , 12.2633    , 64.044     , 69.3742    , 29.2282    ,\n",
       "       39.7429    , 42.6752    , 14.107     , 13.1133    , 24.2541    ,\n",
       "       32.3101    , 36.3612    , 33.6401    , 28.16323333, 17.3638    ,\n",
       "       38.12159333, 27.0811    , 42.2279    , 33.5523    , 11.2034    ,\n",
       "       38.6855    , 24.1091    , 22.0025    , 47.4534    , 17.1938    ,\n",
       "       34.3174    , 43.8123    , 31.777     , 17.3314    , 33.8603    ,\n",
       "       12.2934    , 32.1013    , 36.4328    , 24.9096    , 17.9893    ,\n",
       "       20.66326667, 26.1867    , 15.2493    , 11.5033    , 60.3452    ,\n",
       "       68.1024    , 24.7684    , 35.4811    , 33.132     , 39.2598    ,\n",
       "       65.4265    , 28.7345    , 17.3957    , 25.38056   , 24.36791619,\n",
       "       34.8602    , 13.8454    , 13.1005    , 49.5541    , 24.3905    ,\n",
       "       64.044     , 26.5247    , 48.2569    , 34.0688    , 14.0984    ,\n",
       "       37.5976    , 68.8617    , 79.28      , 15.3278    , 43.8753    ,\n",
       "       13.5607    , 10.2332    , 32.9191    , 25.4481    , 36.8051    ,\n",
       "       77.24      , 25.4453    , 39.2865    , 21.5456    , 25.2449    ,\n",
       "       39.0134    , 19.6695    , 36.7833    , 27.2037    , 38.4688    ,\n",
       "       26.7032    , 12.0018    , 32.2224    , 16.7935    , 66.9757    ,\n",
       "       29.2163    , 30.9122    , 39.0364    , 39.0392    , 40.5571    ,\n",
       "       28.5288    , 31.5604    , 38.43355   , 58.9763    , 45.0223    ,\n",
       "       51.8884    , 53.9262    , 33.06      , 65.1645    , 52.4454    ,\n",
       "       15.014     , 64.5023    , 17.9118    , 40.5138    , 25.2484    ,\n",
       "       13.023     , 64.1946    , 74.4367    , 27.99084762, 36.8379    ,\n",
       "       18.0121    , 14.5202    , 58.4887    , 22.5312    , 24.1277    ,\n",
       "       45.1207    , 65.092     , 57.3391    , 13.7336    , 24.9479    ,\n",
       "       36.462     , 32.1687    , 38.35766   , 28.4315    , 78.9317    ,\n",
       "       60.5696    , 15.8938    , 29.5841    , 68.0306    , 34.1642    ,\n",
       "       53.88824   , 34.3031    ,  7.9222    , 45.9491    , 69.4113    ,\n",
       "       44.9881    , 31.9021    ,  6.1603    , 66.3881    , 51.6183    ,\n",
       "       65.092     , 37.3203    , 28.2278    , 32.2328    , 29.8741    ,\n",
       "       11.322     , 38.5311    , 65.092     , 24.36791619, 63.6821    ,\n",
       "       67.1373    , 42.9274    , 15.45556667, 41.3687    , 39.0145    ,\n",
       "       35.31066   ,  9.457     , 34.5049    , 50.386     , 68.1335    ,\n",
       "       30.9413    , 14.2275    , 23.7523    , 11.254     ,  3.4584    ,\n",
       "       71.305     , 33.7436    , 38.0102    , 48.0352    , 30.957     ,\n",
       "       24.1435    , 43.5537    , 36.8352    , 45.7046    , 33.7554    ,\n",
       "       42.9486    , 35.739     , 37.0497    , 32.1964    , 48.9169    ,\n",
       "       41.5389    , 52.8648    , 14.3479    , 55.3973    , 25.2238    ,\n",
       "       11.6454    , 25.5055    , 55.8444    , 56.5763    , 46.7908    ,\n",
       "       73.746055  , 53.6355    , 38.6295    , 30.0606    , 36.7732    ,\n",
       "       16.6706    , 14.1195    , 45.0508    , 20.6035    , 31.2392    ,\n",
       "       41.4396    , 15.5236    , 51.8591    , 40.3438    , 18.4705    ,\n",
       "       43.6191    , 24.0911    , 39.47472667, 53.6867    , 34.5621    ,\n",
       "       50.386     , 55.48427857, 41.9477    , 23.1503    , 35.3341    ,\n",
       "       28.5722    , 21.0051    , 42.7984    , 42.8916    , 79.28      ,\n",
       "       55.3192    , 35.05366667, 19.8016    , 35.3888    , 20.3817    ,\n",
       "       22.9316    , 24.7796    , 25.0768    , 47.2633    , 51.3707    ,\n",
       "       25.5621    , 26.7022    , 57.169     , 23.4945    , 34.2278    ,\n",
       "       11.3137    , 42.5187    , 14.9092    , 45.205     , 65.9922    ,\n",
       "       43.8263    , 31.2624    , 29.8167    , 45.1333    , 25.4478    ,\n",
       "       15.9902    , 31.2518    , 44.7095    , 55.9509    , 55.4192    ,\n",
       "       34.9178    , 39.40688571, 12.7246    , 38.6913    , 48.7778    ,\n",
       "       29.5346    , 14.0078    ,  7.8352    , 30.1159    , 43.903     ,\n",
       "       18.0215    , 39.3418    , 71.5974    , 16.3985    , 37.4802    ,\n",
       "       29.4404    , 26.5009    , 55.2184    ,  8.4856    , 14.5984    ,\n",
       "       42.9911    , 37.2253    , 51.8474    , 21.4067    , 21.2968    ,\n",
       "       33.3442    , 30.9384    , 79.28      , 54.2172    , 22.0464    ,\n",
       "        8.4342    , 60.4237    , 11.1119    , 51.1135    , 36.5237    ,\n",
       "       22.2633    , 21.2345    , 37.9636    , 39.7701    , 11.9548    ,\n",
       "       44.2721    , 37.4537    , 37.8715    , 32.8604    , 13.6331    ,\n",
       "       34.853     , 37.1969    , 74.7815    , 36.8647    , 32.9965    ,\n",
       "       53.4609    , 38.5021    , 36.0045    , 37.7425    , 49.10602   ,\n",
       "       39.1961    , 59.0179    , 33.1516    , 31.59351667, 17.9515    ,\n",
       "       48.40486667, 60.3452    , 61.9012    , 51.16135857, 27.989     ,\n",
       "       10.1448    , 10.8239    , 26.1175    , 16.2138    , 45.5726    ,\n",
       "       15.163     , 17.5736    , 23.9333    , 47.3573    , 44.7745    ,\n",
       "       12.3735    , 33.4629    , 46.9707    , 33.8826    ,  4.7108    ,\n",
       "       22.209     , 44.3933    , 10.425     , 34.3125    , 64.2397    ,\n",
       "       52.34644   , 45.8147    , 60.6283    , 41.047     , 55.7562    ,\n",
       "       12.038     , 65.6649    , 40.5255    , 36.2691    , 26.3637    ,\n",
       "       30.8388    , 42.8144    , 15.7085    , 32.9085    , 31.7363    ,\n",
       "       18.5272    , 45.3138    , 44.8425    , 42.1489    , 79.28      ,\n",
       "       25.5874    , 37.2235    ,  8.4089    , 16.3018    , 24.0811    ,\n",
       "       55.772     , 39.3928    , 19.4374    , 25.5056    , 14.1878    ,\n",
       "       54.5593    , 59.0152    , 44.1886    , 26.9661    , 15.7885    ,\n",
       "       23.3343    , 22.6441    , 34.8893    , 33.8785    , 16.4685    ,\n",
       "       70.5226    , 36.8898    , 39.3634    , 36.846     , 68.9552    ,\n",
       "       39.9178    , 41.4942    , 14.283     , 40.2498    , 34.3746    ,\n",
       "       34.9469    , 77.24      , 41.8744    , 59.7741    , 38.6104    ,\n",
       "       64.3016    , 22.8065    , 40.8446    , 37.339     , 22.4692    ,\n",
       "        9.2671    , 39.47472667, 43.7098    , 35.587     , 41.1398    ,\n",
       "       20.5687    , 41.41      , 37.0588    , 37.6476    , 35.567     ,\n",
       "       18.6594    , 16.4634    , 39.932     , 16.1885    , 33.3736    ,\n",
       "       16.4955    , 44.0443    , 40.9844    , 26.0016    , 39.8343    ,\n",
       "       71.6185    , 12.9592    , 34.9439    , 14.7436    , 57.7027    ,\n",
       "       42.5947    , 31.8164    , 24.5347    , 37.8479    , 19.4049    ,\n",
       "       66.7824    , 11.5376    , 77.24      , 50.3022    , 39.3173    ,\n",
       "       31.8889    , 39.40688571, 28.8084    , 10.1249    , 49.1392    ,\n",
       "       31.3165    , 18.4437    , 15.4656    , 15.4372    , 28.041     ,\n",
       "        7.689     , 62.7564    , 48.8319    , 70.8071    , 61.547     ,\n",
       "       10.19      , 34.0933    , 24.5026    , 28.5182    , 19.2299    ,\n",
       "       43.5436    , 45.0422    , 33.1052    , 49.664     ,  6.7615    ,\n",
       "       40.8003    , 48.9599    , 32.2214    , 39.0947    , 12.5607    ,\n",
       "       26.3851    , 44.9643    , 44.2803    , 25.5674    , 38.7892    ,\n",
       "       12.8177    , 65.5525    , 58.7625    , 30.71243333, 29.7823    ,\n",
       "       27.8438    , 26.6351    , 24.4056    , 36.4717    , 55.695     ,\n",
       "       64.2397    , 49.7981    , 45.9265    , 15.1661    , 29.4983    ,\n",
       "       50.9843    , 50.6805    , 39.8304    , 24.9943    , 60.3452    ,\n",
       "       20.2478    , 22.8939    , 60.4445    , 39.8042    , 37.073     ,\n",
       "       24.8799    , 14.1886    , 47.4895    , 61.8406    , 65.8634    ,\n",
       "       65.5456    , 36.3541    , 41.1034    , 31.2098    , 10.2158    ,\n",
       "       38.1451    , 48.5988    , 51.2646    , 38.1279    , 36.4322    ,\n",
       "       71.305     , 24.6856    , 53.4521    , 29.2163    , 19.6695    ,\n",
       "       40.6536    , 17.9936    , 11.296     , 12.665     , 19.8347    ,\n",
       "       30.2696    , 39.0627    , 24.0793    , 27.7019    , 33.7367    ,\n",
       "       34.4808    , 55.6681    , 32.6954    , 65.6603    , 42.7817    ,\n",
       "       41.1094    , 27.5624    , 57.8262    , 51.92633333,  9.2036    ,\n",
       "       49.4848    , 23.531     , 19.9567    , 18.8736    , 45.5615    ,\n",
       "       39.0409    , 31.6528    , 52.2021    , 42.4465    , 15.9654    ,\n",
       "       43.7031    , 30.7858    , 17.455     , 26.0445    , 34.5044    ,\n",
       "       65.7896    , 44.6498    , 14.7497    ,  9.759     , 33.9124    ,\n",
       "       38.7746    , 33.3564    , 43.903     , 10.5975    , 40.4801    ,\n",
       "       50.8629    , 51.16135857, 48.339     , 36.8927    , 41.4081    ,\n",
       "       34.6326    , 50.3068    , 23.8825    , 29.4041    , 28.7729    ,\n",
       "        9.7375    , 15.7568    , 18.9398    , 25.379     , 33.58      ,\n",
       "       15.8175    , 21.5753    , 60.8994    , 30.5393    , 33.2109    ,\n",
       "       40.0161    , 24.0182    , 77.1147    , 59.695     , 38.7906    ,\n",
       "       25.24675   , 57.3952    , 25.277     , 32.3529    , 32.2743    ,\n",
       "       34.8982    , 30.5889    , 33.6929    , 49.1392    , 20.0367    ,\n",
       "       22.5614    , 52.8408    ,  9.8607    , 23.0654    , 47.9896    ,\n",
       "       23.8708    , 32.6692    , 37.1353    , 25.7888    , 47.9956    ,\n",
       "       28.9589    , 29.1563    , 26.6596    , 32.9129    , 37.7898    ,\n",
       "       43.463     , 39.1178    , 21.6759    , 26.7098    , 26.3995    ,\n",
       "       17.5096    , 32.9861    , 37.5621    ,  9.7375    , 36.2052    ,\n",
       "       53.6474    , 38.8292    , 16.7881    , 42.7551    , 13.5282    ,\n",
       "       35.0058    , 40.912     , 42.075     , 25.3575    , 27.5873    ,\n",
       "       22.0454    , 71.305     , 52.0193    , 28.4328    , 27.2996    ,\n",
       "       25.5905    , 24.2232    , 42.5614    , 44.0044    , 13.117     ,\n",
       "       13.1521    , 54.84205   , 36.8772    , 53.56605   , 53.9996    ,\n",
       "       11.0123    , 51.16135857, 40.9504    , 68.0217    , 41.0323    ,\n",
       "       15.8529    , 32.1819    , 51.7204    , 48.8315    , 34.9624    ,\n",
       "       43.3525    , 70.0581    , 50.566     , 42.10406667, 66.6025    ,\n",
       "       31.904     ,  9.5707    , 29.0956    , 10.2989    , 40.7434    ,\n",
       "       35.3748    , 30.3339    , 53.5878    , 33.4898    , 43.1639    ,\n",
       "       35.6306    , 23.2469    , 48.8995    , 28.6751    , 14.4232    ,\n",
       "       53.0482    , 50.511     , 25.5606    , 34.1517    , 33.9658    ,\n",
       "       14.9353    , 28.5071    , 60.8332    , 30.7337    , 38.08      ,\n",
       "       63.2296    , 14.9486    , 27.99084762, 20.6997    , 14.0518    ,\n",
       "       51.3704    , 15.9371    , 44.7185    , 65.9887    , 37.0714    ,\n",
       "       37.9527    , 34.4696    , 15.1855    , 33.6401    , 22.6449    ,\n",
       "       50.7728    , 44.2541    , 22.5217    , 31.49766667, 21.5486    ,\n",
       "       38.5789    , 60.7435    , 50.3672    , 34.5621    , 23.0307    ,\n",
       "       41.9009    , 23.8554    , 32.9654    , 21.3517    , 26.1382    ,\n",
       "       43.6211    , 35.1831    , 25.2742    , 53.7978    , 46.2811    ,\n",
       "       61.7129    , 44.7926    , 42.2224    , 46.8297    , 55.7586    ,\n",
       "       56.23032857, 41.0126    , 29.97153333, 21.3867    , 39.1506    ,\n",
       "       31.6053    , 20.3843    , 23.7972    , 34.4662    , 14.8447    ,\n",
       "       30.066     , 10.1761    , 22.9578    , 42.4913    , 11.1282    ,\n",
       "       27.99084762, 27.1009    , 39.18883333, 50.0159    , 54.73124524,\n",
       "       27.8327    , 40.6418    , 25.28765   , 38.2734    , 27.8371    ,\n",
       "       50.3425    , 54.5205    , 77.24      , 30.2523    , 32.1088    ,\n",
       "       23.4243    , 58.8911    , 46.9122    , 17.338     , 38.33776667,\n",
       "       54.7605    , 40.1008    , 54.1577    , 11.6902    , 70.4518    ,\n",
       "       27.6059    , 31.9772    , 25.39413333, 36.385     , 37.6884    ,\n",
       "       65.635     , 39.3642    ])"
      ]
     },
     "execution_count": 16,
     "metadata": {},
     "output_type": "execute_result"
    }
   ],
   "source": [
    "y_pred"
   ]
  },
  {
   "cell_type": "code",
   "execution_count": 18,
   "id": "c4cb483a",
   "metadata": {},
   "outputs": [],
   "source": [
    "y_pred2 = reg.predict(test_features)"
   ]
  },
  {
   "cell_type": "code",
   "execution_count": 19,
   "id": "0b939475",
   "metadata": {},
   "outputs": [
    {
     "data": {
      "text/plain": [
       "array([51.8403    , 39.40688571, 71.1594    , 34.5621    , 11.672     ,\n",
       "       44.7537    , 24.972     , 48.2058    , 35.8519    , 44.122     ,\n",
       "       41.0838    , 16.2189    , 38.1681    , 36.3498    , 24.2556    ,\n",
       "       21.7444    , 37.2238    , 17.5303    , 38.3632    , 31.6234    ,\n",
       "       35.9314    , 35.975     , 45.7218    , 10.9208    , 33.3666    ,\n",
       "       38.9896    , 11.22      , 47.6973    , 53.1014    , 15.5137    ,\n",
       "       61.2187    , 34.3716    , 43.291     , 48.3511    , 18.3004    ,\n",
       "       39.6661    , 34.9156    , 45.1599    , 10.0394    , 51.0868    ,\n",
       "       15.8918    ,  5.5058    , 41.7536    , 49.366     , 13.102     ,\n",
       "       64.4454    , 53.0802    , 34.5103    , 25.7783    ,  8.7248    ,\n",
       "       55.2124    , 45.4556    , 25.8286    , 17.6199    , 44.7119    ,\n",
       "       34.3576    , 26.946     , 12.1546    , 36.4866    , 19.6599    ,\n",
       "       45.2684    , 14.8041    , 36.4454    , 52.1896    , 32.6566    ,\n",
       "       25.8551    , 35.8695    , 13.5607    , 29.8303    , 23.907     ,\n",
       "       12.4044    , 29.512     ,  8.7666    , 41.0838    , 27.0846    ,\n",
       "       11.2       , 51.7194    , 50.3347    , 56.8257    , 10.3315    ,\n",
       "       38.5015    , 48.3249    , 38.304     , 40.2437    , 42.2636    ,\n",
       "       34.5621    , 39.5268    , 34.9986    , 25.9692    , 22.6755    ,\n",
       "       32.7704    , 70.9492    , 13.4481    , 55.681     , 39.1336    ,\n",
       "       48.1938    , 22.9772    , 37.3112    , 21.10616667, 33.0183    ,\n",
       "       31.40563333, 42.1931    , 36.2231    , 23.5532    , 68.2034    ,\n",
       "       12.0345    , 53.5174    , 31.4293    , 39.2959    , 57.9723    ,\n",
       "       38.7141    , 49.5281    , 24.8681    , 40.1014    , 35.05366667,\n",
       "       55.48427857, 19.6021    , 34.8602    , 58.141     , 39.7068    ,\n",
       "       19.3018    , 28.3094    , 52.8485    , 30.3466    , 27.6298    ,\n",
       "       44.0818    , 50.5789    , 49.1392    , 44.0817    , 34.0082    ,\n",
       "       11.8419    , 35.1937    , 19.7379    , 67.7178    , 10.2132    ,\n",
       "       41.286     , 32.6719    , 38.8811    , 22.116     , 33.1066    ,\n",
       "       27.9087    , 34.236     , 15.5918    , 32.8151    , 45.3734    ,\n",
       "       42.3816    , 27.3518    , 14.7436    ,  6.8717    , 17.5565    ,\n",
       "       42.354225  , 24.1439    , 41.0346    , 22.244     , 41.0265    ,\n",
       "       40.1343    , 27.4608    , 70.2003    , 39.40688571, 46.1305    ,\n",
       "       12.8331    , 58.285     , 34.3169    , 52.5248    , 33.6401    ,\n",
       "       65.1645    , 41.6024    , 23.191     , 39.47472667, 21.0361    ,\n",
       "       44.9944    , 11.7616    , 24.4041    , 39.0627    , 35.6127    ,\n",
       "       12.0942    , 31.8313    , 45.9511    , 46.6756    , 37.4459    ,\n",
       "       31.3559    , 26.5009    , 58.053     , 33.9992    , 39.6       ,\n",
       "       50.683     , 22.7096    , 37.5275    , 29.48273333, 15.1938    ,\n",
       "       25.25646667, 38.5535    , 39.4858    , 39.68246667, 29.0854    ,\n",
       "       28.5019    , 43.0077    , 24.1439    , 23.0002    , 27.5259    ,\n",
       "       39.61048571, 55.48427857, 25.5618    , 33.9819    , 66.8103    ,\n",
       "       36.3274    , 31.9575    , 62.658     , 22.59094286, 35.626     ,\n",
       "       14.93155   , 31.2433    , 20.8243    , 45.3434    , 44.3911    ,\n",
       "        4.6602    , 13.8454    , 38.3137    , 24.4219    , 71.305     ,\n",
       "       29.8479    , 54.3073    , 59.695     , 18.0976    , 48.7758    ,\n",
       "       21.6121    , 48.5958    , 21.3867    , 22.0676    , 29.6883    ,\n",
       "       13.193     , 14.085     , 40.4801    , 43.9705    , 35.9097    ,\n",
       "       33.9661    , 34.11135833, 34.5019    , 47.8088    , 15.1108    ,\n",
       "       30.8415    , 40.4906    , 51.5394    , 33.9293    , 66.2898    ,\n",
       "       32.8347    , 70.3088    , 20.8421    , 52.2004    , 64.2397    ,\n",
       "       34.5607    , 40.1505    , 41.6758    , 29.6415    , 39.6991    ,\n",
       "       15.0206    , 33.508     , 17.4221    ])"
      ]
     },
     "execution_count": 19,
     "metadata": {},
     "output_type": "execute_result"
    }
   ],
   "source": [
    "y_pred2"
   ]
  },
  {
   "cell_type": "code",
   "execution_count": 22,
   "id": "99953cf0",
   "metadata": {},
   "outputs": [],
   "source": [
    "filename = 'finalized_model.sav'\n",
    "pickle.dump(reg, open(filename, 'wb'))"
   ]
  },
  {
   "cell_type": "code",
   "execution_count": 23,
   "id": "bb02c288",
   "metadata": {},
   "outputs": [],
   "source": [
    "loaded_model = pickle.load(open(filename, 'rb'))"
   ]
  },
  {
   "cell_type": "code",
   "execution_count": 24,
   "id": "22021c0b",
   "metadata": {},
   "outputs": [
    {
     "name": "stdout",
     "output_type": "stream",
     "text": [
      "0.8895958819046667\n"
     ]
    }
   ],
   "source": [
    "result = loaded_model.score(test_features, test_labels)\n",
    "print(result)"
   ]
  },
  {
   "cell_type": "code",
   "execution_count": null,
   "id": "97b9c1e2",
   "metadata": {},
   "outputs": [],
   "source": []
  }
 ],
 "metadata": {
  "kernelspec": {
   "display_name": "Python 3 (ipykernel)",
   "language": "python",
   "name": "python3"
  },
  "language_info": {
   "codemirror_mode": {
    "name": "ipython",
    "version": 3
   },
   "file_extension": ".py",
   "mimetype": "text/x-python",
   "name": "python",
   "nbconvert_exporter": "python",
   "pygments_lexer": "ipython3",
   "version": "3.11.4"
  }
 },
 "nbformat": 4,
 "nbformat_minor": 5
}
